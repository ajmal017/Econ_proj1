{
 "cells": [
  {
   "cell_type": "code",
   "execution_count": 4,
   "metadata": {},
   "outputs": [],
   "source": [
    "# first run this setup file\n",
    "%run -i C:/Users/champ/Python_proj/base_financial_repo/import_statements # import statements\n",
    "%run -i C:/Users/champ/Documents/Pers/Python/stock_dfs/personal_vars_and_constants # initial global vars and constants file    \n",
    "%run -i C:/Users/champ/Python_proj/base_financial_repo/global_vars_and_constants # initial global vars and constants file\n",
    "%run -i C:/Users/champ/Python_proj/base_financial_repo/functions # initial function file"
   ]
  },
  {
   "cell_type": "code",
   "execution_count": 6,
   "metadata": {},
   "outputs": [
    {
     "name": "stdout",
     "output_type": "stream",
     "text": [
      "Today the market was open and the \n",
      "sectors price data is updated\n",
      "\n",
      "Last run: 2020-06-24 15:56:38.702349\n",
      "The last 17 years of price data\n",
      "Market analysis end timestamp : 15\n",
      "\n",
      "The ascending mean return for 1,3,6,12mo ranking for 11 sectors are :\n",
      "Ticker  Av_ret            category  Div yeild / yr  Div - exp  Expense ratio   EX_date_x Future_EX_date  Days_left     reg_Vol\n",
      "   xlk    23.2          Technology            1.22       1.09           0.13  2020-06-22     2020-10-11      109.0  12537361.0\n",
      "   vcr    13.9   Consumer Cyclical            1.14       1.04           0.10  2020-06-22     2020-10-24      122.0    121137.0\n",
      "   xlv     6.7              Health            2.18       2.05           0.13  2020-06-22     2020-10-11      109.0  15670699.0\n",
      "   xlb     1.8   Natural Resources            2.24       2.11           0.13  2020-06-22     2020-10-11      109.0   5652940.0\n",
      "   xlp     1.5  Consumer Defensive            2.71       2.58           0.13  2020-06-22     2020-10-11      109.0  13971456.0\n",
      "   xlu    -2.5           Utilities            3.27       3.14           0.13  2020-06-22     2020-10-11      109.0  14084123.0\n",
      "   vnq    -3.8         Real Estate            4.10       3.98           0.12  2020-03-10     2020-06-21       -3.0   6593717.0\n",
      "   xli    -4.9         Industrials            2.29       2.16           0.13  2020-06-22     2020-10-11      109.0  16756961.0\n",
      "   iyt    -6.1         Industrials            1.74       1.32           0.42  2020-06-15     2020-09-25       93.0    135337.0\n",
      "   vfh    -8.3           Financial            2.91       2.81           0.10  2020-06-22     2020-10-24      122.0   1018958.0\n",
      "   xle   -15.8       Equity Energy           10.54      10.41           0.13  2020-06-22     2020-10-11      109.0  31424723.0\n",
      "\n",
      "The S&P index is at a BUY condition : 2.0% above the 10mo SMA :\n"
     ]
    },
    {
     "data": {
      "application/vnd.jupyter.widget-view+json": {
       "model_id": "cbfe641f4c084fcd8eb58aca7fbbea7c",
       "version_major": 2,
       "version_minor": 0
      },
      "text/plain": [
       "Canvas(toolbar=Toolbar(toolitems=[('Home', 'Reset original view', 'home', 'home'), ('Back', 'Back to previous …"
      ]
     },
     "metadata": {},
     "output_type": "display_data"
    },
    {
     "data": {
      "application/vnd.jupyter.widget-view+json": {
       "model_id": "cbe83f02af2a424f9dd990932c402656",
       "version_major": 2,
       "version_minor": 0
      },
      "text/plain": [
       "Canvas(toolbar=Toolbar(toolitems=[('Home', 'Reset original view', 'home', 'home'), ('Back', 'Back to previous …"
      ]
     },
     "metadata": {},
     "output_type": "display_data"
    },
    {
     "name": "stderr",
     "output_type": "stream",
     "text": [
      "No handles with labels found to put in legend.\n"
     ]
    },
    {
     "data": {
      "application/vnd.jupyter.widget-view+json": {
       "model_id": "58243673545e478398df5654f1f3122c",
       "version_major": 2,
       "version_minor": 0
      },
      "text/plain": [
       "Canvas(toolbar=Toolbar(toolitems=[('Home', 'Reset original view', 'home', 'home'), ('Back', 'Back to previous …"
      ]
     },
     "metadata": {},
     "output_type": "display_data"
    }
   ],
   "source": [
    "# Relative strength indicator and economic indicators \n",
    "%matplotlib widget\n",
    "\n",
    "# Local variables\n",
    "accounts = ['sectors','inx']\n",
    "Inx = 'spy'\n",
    "data_type='Adj Close'\n",
    "force_update = False # Force download of financial data\n",
    "\n",
    "for account in accounts: \n",
    "    prices_file = MAIN_FOLDER+META_FILE_FOLDER+'prices_'+account+'.csv'\n",
    "    if account == 'sectors': \n",
    "        securities = ['xlp', 'xle', 'xlv', 'xli', 'xlb',\n",
    "                      'xlk', 'iyt', 'xlu', 'vcr', 'vfh', 'vnq']\n",
    "        sector_price_data = get_prices(securities, account, prices_file, \n",
    "                                       data_type, start_date, force_update)\n",
    "        \n",
    "    if account == 'inx':\n",
    "        securities = [Inx]\n",
    "        inx_price_data = get_prices(securities,\n",
    "                                    account, prices_file,\n",
    "                                    data_type, start_date,\n",
    "                                    force_update)\n",
    "        inx_price_data['MA50_index']=inx_price_data[Inx].rolling(50).mean()\n",
    "        inx_price_data['MA200_index']=inx_price_data[Inx].rolling(200).mean()\n",
    "        inx_price_data.index = pd.to_datetime(inx_price_data.index)\n",
    "\n",
    "#  Function calls\n",
    "Market_indicator_signal,mkt_ind = get_mkt_indicator(inx_price_data)\n",
    "Average_return = _1_3_6_9_12_month_returns(sector_price_data)\n",
    "FRED_data_mort = get_FRED_data('MORTGAGE30US','mort',start_date,0,1)\n",
    "FRED_data_LEI = get_FRED_data('USSLIND','LEI',start_date,0,1)\n",
    "FRED_data_inf = get_FRED_data('CPILFESL','inf',start_date,12,100)\n",
    "FRED_data_10_2 = get_FRED_data('T10Y2Y','10_2',start_date,0,1)\n",
    "FRED_data_RF = get_FRED_data('DTB3','RF',start_date,0,1)\n",
    "FRED_data_ICSA = get_FRED_data('ICSA','UnEmp',start_date,52,1)\n",
    "\n",
    "combined_12_mo_return = pd.concat([FRED_data_RF, FRED_data_inf,\n",
    "                                  FRED_data_LEI, FRED_data_mort,\n",
    "                                  FRED_data_10_2, FRED_data_ICSA], \n",
    "                                  axis=1, sort=False)\n",
    "combined_12_mo_return = combined_12_mo_return.fillna(method='ffill')\n",
    "combined_12_mo_return = combined_12_mo_return.fillna(method='bfill')\n",
    "\n",
    "#  Display\n",
    "display = display_relative_strength(Average_return,\n",
    "                                    Market_indicator_signal,\n",
    "                                    mkt_ind,\n",
    "                                    Securities_file_location)\n",
    "display2 = prepare_market_indicator(inx_price_data,Inx);\n",
    "display3 = bollinger_bands_graph(inx_price_data,Inx);\n",
    "display4 = econometric_graph(combined_12_mo_return);"
   ]
  }
 ],
 "metadata": {
  "kernelspec": {
   "display_name": "temp_pip_env",
   "language": "python",
   "name": "temp_pip_env"
  },
  "language_info": {
   "codemirror_mode": {
    "name": "ipython",
    "version": 3
   },
   "file_extension": ".py",
   "mimetype": "text/x-python",
   "name": "python",
   "nbconvert_exporter": "python",
   "pygments_lexer": "ipython3",
   "version": "3.8.2"
  }
 },
 "nbformat": 4,
 "nbformat_minor": 4
}
